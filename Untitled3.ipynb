{
 "cells": [
  {
   "cell_type": "code",
   "execution_count": 5,
   "metadata": {},
   "outputs": [],
   "source": [
    "import pandas as pd\n",
    "import numpy as np\n",
    "import random\n",
    "from sklearn.linear_model import LogisticRegression\n",
    "def sanitization(web):                      # tokenizing method\n",
    "    web = web.lower()\n",
    "    token = []\n",
    "    dot_token_slash = []\n",
    "    raw_slash = str(web).split('/')\n",
    "    for i in raw_slash:\n",
    "        raw1 = str(i).split('-')            # removing slash to get token\n",
    "        slash_token = []\n",
    "        for j in range(0,len(raw1)):\n",
    "            raw2 = str(raw1[j]).split('.')  # removing dot to get the tokens\n",
    "            slash_token = slash_token + raw2\n",
    "        dot_token_slash = dot_token_slash + raw1 + slash_token # all tokens\n",
    "    token = list(set(dot_token_slash))      # to remove same words  \n",
    "    if 'com' in token:\n",
    "        token.remove('com')                 # remove com\n",
    "    return token"
   ]
  },
  {
   "cell_type": "code",
   "execution_count": 6,
   "metadata": {},
   "outputs": [
    {
     "ename": "NameError",
     "evalue": "name 'x_train' is not defined",
     "output_type": "error",
     "traceback": [
      "\u001b[1;31m---------------------------------------------------------------------------\u001b[0m",
      "\u001b[1;31mNameError\u001b[0m                                 Traceback (most recent call last)",
      "\u001b[1;32m<ipython-input-6-915a72f3879e>\u001b[0m in \u001b[0;36m<module>\u001b[1;34m()\u001b[0m\n\u001b[0;32m      7\u001b[0m \u001b[0murls\u001b[0m \u001b[1;33m=\u001b[0m \u001b[1;33m[\u001b[0m\u001b[0md\u001b[0m\u001b[1;33m[\u001b[0m\u001b[1;36m0\u001b[0m\u001b[1;33m]\u001b[0m \u001b[1;32mfor\u001b[0m \u001b[0md\u001b[0m \u001b[1;32min\u001b[0m \u001b[0murl_df\u001b[0m\u001b[1;33m]\u001b[0m              \u001b[1;31m# all urls corresponding to a label {G/B}\u001b[0m\u001b[1;33m\u001b[0m\u001b[0m\n\u001b[0;32m      8\u001b[0m \u001b[0mlgr\u001b[0m \u001b[1;33m=\u001b[0m \u001b[0mLogisticRegression\u001b[0m\u001b[1;33m(\u001b[0m\u001b[1;33m)\u001b[0m                  \u001b[1;31m# Logistic regression\u001b[0m\u001b[1;33m\u001b[0m\u001b[0m\n\u001b[1;32m----> 9\u001b[1;33m \u001b[0mlgr\u001b[0m\u001b[1;33m.\u001b[0m\u001b[0mfit\u001b[0m\u001b[1;33m(\u001b[0m\u001b[0mx_train\u001b[0m\u001b[1;33m,\u001b[0m \u001b[0my_train\u001b[0m\u001b[1;33m)\u001b[0m\u001b[1;33m\u001b[0m\u001b[0m\n\u001b[0m\u001b[0;32m     10\u001b[0m \u001b[0mscore\u001b[0m \u001b[1;33m=\u001b[0m \u001b[0mlgr\u001b[0m\u001b[1;33m.\u001b[0m\u001b[0mscore\u001b[0m\u001b[1;33m(\u001b[0m\u001b[0mx_test\u001b[0m\u001b[1;33m,\u001b[0m \u001b[0my_test\u001b[0m\u001b[1;33m)\u001b[0m\u001b[1;33m\u001b[0m\u001b[0m\n\u001b[0;32m     11\u001b[0m \u001b[0mprint\u001b[0m\u001b[1;33m(\u001b[0m\u001b[1;34m\"score: {0:.2f} %\"\u001b[0m\u001b[1;33m.\u001b[0m\u001b[0mformat\u001b[0m\u001b[1;33m(\u001b[0m\u001b[1;36m100\u001b[0m \u001b[1;33m*\u001b[0m \u001b[0mscore\u001b[0m\u001b[1;33m)\u001b[0m\u001b[1;33m)\u001b[0m \u001b[1;31m# the score comes to be ~98%\u001b[0m\u001b[1;33m\u001b[0m\u001b[0m\n",
      "\u001b[1;31mNameError\u001b[0m: name 'x_train' is not defined"
     ]
    }
   ],
   "source": [
    "url = '~/data_url.csv'\n",
    "url_csv = pd.read_csv(url,',',error_bad_lines=False)\n",
    "url_df = pd.DataFrame(url_csv)             # to convert into data frames                                                                                  \n",
    "url_df = np.array(url_df)                  # to convert into array   \n",
    "random.shuffle(url_df)\n",
    "y = [d[1] for d in url_df]                 # all labels\n",
    "urls = [d[0] for d in url_df]              # all urls corresponding to a label {G/B}\n",
    "lgr = LogisticRegression()                  # Logistic regression\n",
    "lgr.fit(x_train, y_train)\n",
    "score = lgr.score(x_test, y_test)\n",
    "print(\"score: {0:.2f} %\".format(100 * score)) # the score comes to be ~98%\n",
    "x_predict = ['www.evilass.com','google.com/search=VAD3R','wikipedia.co.uk']\n",
    "x_predict = vectorizer.transform(x_predict)\n",
    "y_predict = lgr.predict(x_predict)\n",
    "print (y_predict)"
   ]
  },
  {
   "cell_type": "code",
   "execution_count": 24,
   "metadata": {},
   "outputs": [
    {
     "name": "stdout",
     "output_type": "stream",
     "text": [
      "score: 98.42 %\n",
      "['bad' 'good' 'good']\n"
     ]
    }
   ],
   "source": [
    "import pandas as pd\n",
    "import numpy as np\n",
    "import random\n",
    "import pickle\n",
    "\n",
    "from sklearn.model_selection import train_test_split\n",
    "from sklearn.feature_extraction.text import TfidfVectorizer\n",
    "from sklearn.linear_model import LogisticRegression\n",
    "\n",
    "# Logistic Regression -> binary regression aasupmtions: dichotomous (binary) result: yes/no\n",
    "# A key difference from linear regression is that the output value being modeled is a binary values (0 or 1) rather than a numeric value.\n",
    "#  https://machinelearningmastery.com/logistic-regression-for-machine-learning/\n",
    "\n",
    "def sanitization(web):                      # tokenizing method\n",
    "    web = web.lower()\n",
    "    token = []\n",
    "    dot_token_slash = []\n",
    "    raw_slash = str(web).split('/')\n",
    "    for i in raw_slash:\n",
    "        raw1 = str(i).split('-')            # removing slash to get token\n",
    "        slash_token = []\n",
    "        for j in range(0,len(raw1)):\n",
    "            raw2 = str(raw1[j]).split('.')  # removing dot to get the tokens\n",
    "            slash_token = slash_token + raw2\n",
    "        dot_token_slash = dot_token_slash + raw1 + slash_token # all tokens\n",
    "    token = list(set(dot_token_slash))      # to remove same words  \n",
    "    if 'com' in token:\n",
    "        token.remove('com')                 # remove com\n",
    "    return token\n",
    "\n",
    "url = '~/data_url.csv'\n",
    "url_csv = pd.read_csv(url,',',error_bad_lines=False)\n",
    "url_df = pd.DataFrame(url_csv)              # to convert into data frames                                                                                  \n",
    "url_df = np.array(url_df)                   # to convert into array   \n",
    "random.shuffle(url_df)\n",
    "y = [d[1] for d in url_df]                  # all labels\n",
    "urls = [d[0] for d in url_df]               # all urls corresponding to a label {G/B}\n",
    "#http://blog.christianperone.com/2011/09/machine-learning-text-feature-extraction-tf-idf-part-i/\n",
    "\n",
    "vectorizer = TfidfVectorizer(tokenizer=sanitization)  # term-frequency and inverse-document-frequency\n",
    "x = vectorizer.fit_transform(urls)\n",
    "x_train, x_test, y_train, y_test = train_test_split(x, y, test_size=0.2, random_state=42)\n",
    "\n",
    "lgr = LogisticRegression()                  # Logistic regression\n",
    "lgr.fit(x_train, y_train)\n",
    "score = lgr.score(x_test, y_test)\n",
    "print(\"score: {0:.2f} %\".format(100 * score))\n",
    "vectorizer_save = vectorizer\n",
    "\n",
    "\n",
    "file = \"pickel_model.pkl\"\n",
    "with open(file, 'wb') as f:\n",
    "    pickle.dump(lgr, f)\n",
    "f.close()\n",
    "\n",
    "file2 = \"pickel_vector.pkl\"\n",
    "with open(file2,'wb') as f2:\n",
    "    pickle.dump(vectorizer_save, f2)\n",
    "f2.close()   \n",
    "x_predict = ['hackthebox.eu','google.com/search=VAD3R','wikipedia.co.uk']\n",
    "x_predict = vectorizer.transform(x_predict)\n",
    "y_predict = lgr.predict(x_predict)\n",
    "print (y_predict)"
   ]
  },
  {
   "cell_type": "code",
   "execution_count": null,
   "metadata": {},
   "outputs": [],
   "source": []
  },
  {
   "cell_type": "code",
   "execution_count": null,
   "metadata": {},
   "outputs": [],
   "source": []
  }
 ],
 "metadata": {
  "kernelspec": {
   "display_name": "Python 3",
   "language": "python",
   "name": "python3"
  },
  "language_info": {
   "codemirror_mode": {
    "name": "ipython",
    "version": 3
   },
   "file_extension": ".py",
   "mimetype": "text/x-python",
   "name": "python",
   "nbconvert_exporter": "python",
   "pygments_lexer": "ipython3",
   "version": "3.6.4"
  }
 },
 "nbformat": 4,
 "nbformat_minor": 2
}
